{
 "cells": [
  {
   "cell_type": "markdown",
   "metadata": {},
   "source": [
    "# Midterm Exam\n",
    "\n",
    "Follow the instructions, write your Python code, and answer the questions. "
   ]
  },
  {
   "cell_type": "markdown",
   "metadata": {},
   "source": [
    "## Question 1\n",
    "Write a program using the \"f-strings\" (https://realpython.com/python-f-strings/) and user input function to calculate Body mass index (BMI). \n",
    "\n",
    "Formula: $BMI=\\frac {weight (kg)} {[height (m)]^2}$\n",
    "\n",
    "Hint: you may need int() or float() function\n",
    "\n",
    "An example output:\n",
    "```\n",
    "Weight (kg): 68\n",
    "Height (cm): 165\n",
    "BMI: 24.977043158861342\n",
    "```"
   ]
  },
  {
   "cell_type": "code",
   "execution_count": 2,
   "metadata": {},
   "outputs": [
    {
     "name": "stdout",
     "output_type": "stream",
     "text": [
      "Weight (kg): 68\n",
      "Height (cm): 165\n",
      "BMI: 24.977043158861342\n"
     ]
    }
   ],
   "source": [
    "# Complete your code below (4 points) \n",
    "w = float(input('Weight (kg): '))\n",
    "h = float(input('Height (cm): '))\n",
    "bmi = w/(h/100)**2\n",
    "print(f'BMI: {bmi}')"
   ]
  },
  {
   "cell_type": "markdown",
   "metadata": {},
   "source": [
    "## Question 2\n",
    "\n",
    "In John F. Kennedy's inaugural address, he spoke his famous words:\n",
    "\n",
    "**\"Ask not what your country can do for you - ask what you can do for your country.\"**\n",
    "\n",
    "Write Python code to answer the following questions: "
   ]
  },
  {
   "cell_type": "code",
   "execution_count": 13,
   "metadata": {},
   "outputs": [],
   "source": [
    "# Save this quote in a data object named \"quote\" (1 point)\n",
    "quote = \"Ask not what your contry can do for you - ask what you can do for your contry.\""
   ]
  },
  {
   "cell_type": "code",
   "execution_count": 14,
   "metadata": {},
   "outputs": [
    {
     "name": "stdout",
     "output_type": "stream",
     "text": [
      "78\n"
     ]
    }
   ],
   "source": [
    "# Count the total number of characters (including punctuaitons) in this quote. (1 point)\n",
    "print(len(quote))"
   ]
  },
  {
   "cell_type": "code",
   "execution_count": 15,
   "metadata": {},
   "outputs": [
    {
     "name": "stdout",
     "output_type": "stream",
     "text": [
      " ask what you can do for your contry\n"
     ]
    }
   ],
   "source": [
    "# Extract the second half of the quote (i.e., after \" - \") (2 points)\n",
    "print(quote[41:77])"
   ]
  },
  {
   "cell_type": "code",
   "execution_count": 16,
   "metadata": {},
   "outputs": [
    {
     "name": "stdout",
     "output_type": "stream",
     "text": [
      "['ask', 'not', 'what', 'your', 'contry', 'can', 'do', 'for', 'you', 'ask', 'what', 'you', 'can', 'do', 'for', 'your', 'contry']\n"
     ]
    }
   ],
   "source": [
    "# Create a list of all words (not including punctuaitons) in this quote (2 points)\n",
    "# Transform all to lowercase. \n",
    "print(quote.lower().replace('.',' ').replace('-', ' ').split())"
   ]
  },
  {
   "cell_type": "code",
   "execution_count": 17,
   "metadata": {},
   "outputs": [
    {
     "data": {
      "text/plain": [
       "12"
      ]
     },
     "execution_count": 17,
     "metadata": {},
     "output_type": "execute_result"
    }
   ],
   "source": [
    "# Count the number of unique words in this quote. (2 points)\n",
    "# Hint: \"Ask\" and \"ask\" are the same word.\n",
    "words = quote.split()\n",
    "unique_words = []\n",
    "for word in words:\n",
    "    if word not in unique_words:\n",
    "        unique_words.append(word)\n",
    "len(unique_words)"
   ]
  },
  {
   "cell_type": "markdown",
   "metadata": {},
   "source": [
    "## Question 3. Marriott Hotel Category Change Analysis\n",
    "\n",
    "**Case Description**\n",
    "\n",
    "Marriott has over eight thousand hotels worldwide (https://www.marriott.com/hotel-search.mi). \n",
    "\n",
    "Marriott hotels are classified into eight categories with different rates for point redemption for customers in their loyalty program. \n",
    "\n",
    "Marriott adjusts category ratings for their hotels each year to reflect changing market conditions, such as average daily room rates, average occupancy, renovations, etc.\n",
    "\n",
    "You are given the dataset on 2020 category changes: **marriott-2020.csv**\n",
    "\n",
    "Below, you need to use Pandas to analyze the dataset and answer the questions below: "
   ]
  },
  {
   "cell_type": "markdown",
   "metadata": {},
   "source": [
    "### Step 1. Read the data"
   ]
  },
  {
   "cell_type": "code",
   "execution_count": 19,
   "metadata": {},
   "outputs": [],
   "source": [
    "# 3.1 \n",
    "# import pandas and numpy packages (1 point) \n",
    "import pandas as pd\n",
    "import numpy as np"
   ]
  },
  {
   "cell_type": "code",
   "execution_count": 22,
   "metadata": {},
   "outputs": [
    {
     "data": {
      "text/html": [
       "<div>\n",
       "<style scoped>\n",
       "    .dataframe tbody tr th:only-of-type {\n",
       "        vertical-align: middle;\n",
       "    }\n",
       "\n",
       "    .dataframe tbody tr th {\n",
       "        vertical-align: top;\n",
       "    }\n",
       "\n",
       "    .dataframe thead th {\n",
       "        text-align: right;\n",
       "    }\n",
       "</style>\n",
       "<table border=\"1\" class=\"dataframe\">\n",
       "  <thead>\n",
       "    <tr style=\"text-align: right;\">\n",
       "      <th></th>\n",
       "      <th>Hotel</th>\n",
       "      <th>Brand</th>\n",
       "      <th>Destination</th>\n",
       "      <th>Current Category</th>\n",
       "      <th>Current Standard Price</th>\n",
       "      <th>New Category</th>\n",
       "      <th>New Standard Price</th>\n",
       "    </tr>\n",
       "  </thead>\n",
       "  <tbody>\n",
       "    <tr>\n",
       "      <th>0</th>\n",
       "      <td>Aberdeen Marriott Hotel</td>\n",
       "      <td>Marriott</td>\n",
       "      <td>United Kingdom</td>\n",
       "      <td>3</td>\n",
       "      <td>17500</td>\n",
       "      <td>2</td>\n",
       "      <td>12500</td>\n",
       "    </tr>\n",
       "    <tr>\n",
       "      <th>1</th>\n",
       "      <td>AC Hotel Aitana</td>\n",
       "      <td>AC Hotels by Marriott</td>\n",
       "      <td>Spain</td>\n",
       "      <td>3</td>\n",
       "      <td>17500</td>\n",
       "      <td>4</td>\n",
       "      <td>25000</td>\n",
       "    </tr>\n",
       "    <tr>\n",
       "      <th>2</th>\n",
       "      <td>AC Hotel Alcala de Henares</td>\n",
       "      <td>AC Hotels by Marriott</td>\n",
       "      <td>Spain</td>\n",
       "      <td>1</td>\n",
       "      <td>7500</td>\n",
       "      <td>2</td>\n",
       "      <td>12500</td>\n",
       "    </tr>\n",
       "    <tr>\n",
       "      <th>3</th>\n",
       "      <td>AC Hotel Almeria</td>\n",
       "      <td>AC Hotels by Marriott</td>\n",
       "      <td>Spain</td>\n",
       "      <td>1</td>\n",
       "      <td>7500</td>\n",
       "      <td>2</td>\n",
       "      <td>12500</td>\n",
       "    </tr>\n",
       "    <tr>\n",
       "      <th>4</th>\n",
       "      <td>AC Hotel Aravaca</td>\n",
       "      <td>AC Hotels by Marriott</td>\n",
       "      <td>Spain</td>\n",
       "      <td>1</td>\n",
       "      <td>7500</td>\n",
       "      <td>2</td>\n",
       "      <td>12500</td>\n",
       "    </tr>\n",
       "  </tbody>\n",
       "</table>\n",
       "</div>"
      ],
      "text/plain": [
       "                        Hotel                  Brand     Destination  \\\n",
       "0     Aberdeen Marriott Hotel               Marriott  United Kingdom   \n",
       "1             AC Hotel Aitana  AC Hotels by Marriott           Spain   \n",
       "2  AC Hotel Alcala de Henares  AC Hotels by Marriott           Spain   \n",
       "3            AC Hotel Almeria  AC Hotels by Marriott           Spain   \n",
       "4            AC Hotel Aravaca  AC Hotels by Marriott           Spain   \n",
       "\n",
       "   Current Category  Current Standard Price  New Category  New Standard Price  \n",
       "0                 3                   17500             2               12500  \n",
       "1                 3                   17500             4               25000  \n",
       "2                 1                    7500             2               12500  \n",
       "3                 1                    7500             2               12500  \n",
       "4                 1                    7500             2               12500  "
      ]
     },
     "execution_count": 22,
     "metadata": {},
     "output_type": "execute_result"
    }
   ],
   "source": [
    "# 3.2\n",
    "# read data from \"marriott-2020.csv\" and show the first five rows. (1 point)\n",
    "marriott = pd.read_csv('../data/marriott-2020.csv', header=0)\n",
    "marriott.head(5)"
   ]
  },
  {
   "cell_type": "code",
   "execution_count": 23,
   "metadata": {
    "scrolled": false
   },
   "outputs": [
    {
     "name": "stdout",
     "output_type": "stream",
     "text": [
      "<class 'pandas.core.frame.DataFrame'>\n",
      "RangeIndex: 2185 entries, 0 to 2184\n",
      "Data columns (total 7 columns):\n",
      " #   Column                  Non-Null Count  Dtype \n",
      "---  ------                  --------------  ----- \n",
      " 0   Hotel                   2185 non-null   object\n",
      " 1   Brand                   2185 non-null   object\n",
      " 2   Destination             2185 non-null   object\n",
      " 3   Current Category        2185 non-null   int64 \n",
      " 4   Current Standard Price  2185 non-null   int64 \n",
      " 5   New Category            2185 non-null   int64 \n",
      " 6   New Standard Price      2185 non-null   int64 \n",
      "dtypes: int64(4), object(3)\n",
      "memory usage: 119.6+ KB\n"
     ]
    }
   ],
   "source": [
    "# 3.3\n",
    "# Find the general information of this dataset: \n",
    "#   row count, column count, data type of each column\n",
    "# Write you code here (1 point): \n",
    "marriott.info()"
   ]
  },
  {
   "cell_type": "code",
   "execution_count": null,
   "metadata": {},
   "outputs": [],
   "source": [
    "# 3.4\n",
    "# Based on the output of your code above, answer the following questions (No code needed here) (1 point):\n",
    "# Row count: 6\n",
    "# Column count: 7\n",
    "# Columns of string type: 3\n",
    "# Columns of integer type: 4"
   ]
  },
  {
   "cell_type": "markdown",
   "metadata": {},
   "source": [
    "### Step 2. Data Analysis"
   ]
  },
  {
   "cell_type": "code",
   "execution_count": 25,
   "metadata": {},
   "outputs": [
    {
     "data": {
      "text/plain": [
       "30"
      ]
     },
     "execution_count": 25,
     "metadata": {},
     "output_type": "execute_result"
    }
   ],
   "source": [
    "# 3.5\n",
    "# How many unique brands are there in this dataset? (1 point)\n",
    "marriott['Brand'].nunique()"
   ]
  },
  {
   "cell_type": "code",
   "execution_count": 32,
   "metadata": {},
   "outputs": [
    {
     "data": {
      "text/plain": [
       "USA          1548\n",
       "Canada         76\n",
       "China          68\n",
       "Spain          34\n",
       "India          26\n",
       "             ... \n",
       "Monaco          1\n",
       "Bhutan          1\n",
       "Bolivia         1\n",
       "Belarus         1\n",
       "Sri Lanka       1\n",
       "Name: Destination, Length: 98, dtype: int64"
      ]
     },
     "execution_count": 32,
     "metadata": {},
     "output_type": "execute_result"
    }
   ],
   "source": [
    "# 3.6\n",
    "# Which destination (country) has the most hotels listed in this dataset? (1 points)\n",
    "# List the number of hotels in each country. \n",
    "marriott['Destination'].value_counts()\n",
    "#USA has the most hotels listed in this dataset"
   ]
  },
  {
   "cell_type": "code",
   "execution_count": 39,
   "metadata": {
    "scrolled": true
   },
   "outputs": [
    {
     "data": {
      "text/plain": [
       "76"
      ]
     },
     "execution_count": 39,
     "metadata": {},
     "output_type": "execute_result"
    }
   ],
   "source": [
    "# 3.7\n",
    "# How many hotels in Canada had their category changed (i.e., either upgraded or downgraded)? (2 points)\n",
    "canada_changed = marriott[(marriott['Destination'] == 'Canada') & (marriott['Current Category'] != marriott['New Category'])]\n",
    "len(canada_changed)"
   ]
  },
  {
   "cell_type": "code",
   "execution_count": 40,
   "metadata": {},
   "outputs": [
    {
     "data": {
      "text/plain": [
       "15"
      ]
     },
     "execution_count": 40,
     "metadata": {},
     "output_type": "execute_result"
    }
   ],
   "source": [
    "# 3.8\n",
    "# How many brands in Canada had their category changed? (2 points)\n",
    "canada_changed['Brand'].nunique()"
   ]
  },
  {
   "cell_type": "code",
   "execution_count": 42,
   "metadata": {},
   "outputs": [
    {
     "data": {
      "text/plain": [
       "1686"
      ]
     },
     "execution_count": 42,
     "metadata": {},
     "output_type": "execute_result"
    }
   ],
   "source": [
    "# 3.9\n",
    "# How many hotels worldwide were upgraded vs. downgraded in category in 2020? (2 points)\n",
    "# Upgrade: \"New Category\" is greater than \"Current Category\".\n",
    "len(marriott[(marriott['New Category'] > marriott['Current Category'])])"
   ]
  },
  {
   "cell_type": "code",
   "execution_count": 44,
   "metadata": {},
   "outputs": [
    {
     "data": {
      "text/html": [
       "<div>\n",
       "<style scoped>\n",
       "    .dataframe tbody tr th:only-of-type {\n",
       "        vertical-align: middle;\n",
       "    }\n",
       "\n",
       "    .dataframe tbody tr th {\n",
       "        vertical-align: top;\n",
       "    }\n",
       "\n",
       "    .dataframe thead th {\n",
       "        text-align: right;\n",
       "    }\n",
       "</style>\n",
       "<table border=\"1\" class=\"dataframe\">\n",
       "  <thead>\n",
       "    <tr style=\"text-align: right;\">\n",
       "      <th></th>\n",
       "      <th>Hotel</th>\n",
       "      <th>Brand</th>\n",
       "      <th>Destination</th>\n",
       "      <th>Current Category</th>\n",
       "      <th>Current Standard Price</th>\n",
       "      <th>New Category</th>\n",
       "      <th>New Standard Price</th>\n",
       "    </tr>\n",
       "  </thead>\n",
       "  <tbody>\n",
       "    <tr>\n",
       "      <th>1087</th>\n",
       "      <td>JW Marriott Parq Vancouver</td>\n",
       "      <td>JW Marriott</td>\n",
       "      <td>Canada</td>\n",
       "      <td>6</td>\n",
       "      <td>50000</td>\n",
       "      <td>7</td>\n",
       "      <td>60000</td>\n",
       "    </tr>\n",
       "  </tbody>\n",
       "</table>\n",
       "</div>"
      ],
      "text/plain": [
       "                           Hotel        Brand Destination  Current Category  \\\n",
       "1087  JW Marriott Parq Vancouver  JW Marriott      Canada                 6   \n",
       "\n",
       "      Current Standard Price  New Category  New Standard Price  \n",
       "1087                   50000             7               60000  "
      ]
     },
     "execution_count": 44,
     "metadata": {},
     "output_type": "execute_result"
    }
   ],
   "source": [
    "# 3.10\n",
    "# List all JW Marriott hotels in Cananda that had a category upgrade. (2 points)\n",
    "(marriott[(marriott['Destination'] == 'Canada') & (marriott['Brand'] == 'JW Marriott') \n",
    "          & (marriott['New Category'] > marriott['Current Category'])])"
   ]
  },
  {
   "cell_type": "code",
   "execution_count": 45,
   "metadata": {},
   "outputs": [
    {
     "data": {
      "text/html": [
       "<div>\n",
       "<style scoped>\n",
       "    .dataframe tbody tr th:only-of-type {\n",
       "        vertical-align: middle;\n",
       "    }\n",
       "\n",
       "    .dataframe tbody tr th {\n",
       "        vertical-align: top;\n",
       "    }\n",
       "\n",
       "    .dataframe thead th {\n",
       "        text-align: right;\n",
       "    }\n",
       "</style>\n",
       "<table border=\"1\" class=\"dataframe\">\n",
       "  <thead>\n",
       "    <tr style=\"text-align: right;\">\n",
       "      <th></th>\n",
       "      <th>Hotel</th>\n",
       "      <th>Brand</th>\n",
       "      <th>Destination</th>\n",
       "      <th>Current Category</th>\n",
       "      <th>Current Standard Price</th>\n",
       "      <th>New Category</th>\n",
       "      <th>New Standard Price</th>\n",
       "    </tr>\n",
       "  </thead>\n",
       "  <tbody>\n",
       "    <tr>\n",
       "      <th>913</th>\n",
       "      <td>Four Points by Sheraton Bali, Ungasan</td>\n",
       "      <td>Four Points</td>\n",
       "      <td>Indonesia</td>\n",
       "      <td>4</td>\n",
       "      <td>25000</td>\n",
       "      <td>2</td>\n",
       "      <td>12500</td>\n",
       "    </tr>\n",
       "  </tbody>\n",
       "</table>\n",
       "</div>"
      ],
      "text/plain": [
       "                                     Hotel        Brand Destination  \\\n",
       "913  Four Points by Sheraton Bali, Ungasan  Four Points   Indonesia   \n",
       "\n",
       "     Current Category  Current Standard Price  New Category  \\\n",
       "913                 4                   25000             2   \n",
       "\n",
       "     New Standard Price  \n",
       "913               12500  "
      ]
     },
     "execution_count": 45,
     "metadata": {},
     "output_type": "execute_result"
    }
   ],
   "source": [
    "# 3.11\n",
    "# List hotels whose category changes greater than 1 if any, (2 points)\n",
    "# such as changing from category 3 to 5 (+2) or from category 7 to 4 (-3).\n",
    "(marriott[(marriott['New Category'] - marriott['Current Category'] >= 2) \\\n",
    "          | (marriott['Current Category'] - marriott['New Category'] >= 2)])"
   ]
  },
  {
   "cell_type": "code",
   "execution_count": 48,
   "metadata": {
    "scrolled": true
   },
   "outputs": [
    {
     "data": {
      "text/html": [
       "<div>\n",
       "<style scoped>\n",
       "    .dataframe tbody tr th:only-of-type {\n",
       "        vertical-align: middle;\n",
       "    }\n",
       "\n",
       "    .dataframe tbody tr th {\n",
       "        vertical-align: top;\n",
       "    }\n",
       "\n",
       "    .dataframe thead th {\n",
       "        text-align: right;\n",
       "    }\n",
       "</style>\n",
       "<table border=\"1\" class=\"dataframe\">\n",
       "  <thead>\n",
       "    <tr style=\"text-align: right;\">\n",
       "      <th></th>\n",
       "      <th>New Category</th>\n",
       "      <th>New Standard Price</th>\n",
       "    </tr>\n",
       "  </thead>\n",
       "  <tbody>\n",
       "    <tr>\n",
       "      <th>2184</th>\n",
       "      <td>1</td>\n",
       "      <td>7500</td>\n",
       "    </tr>\n",
       "    <tr>\n",
       "      <th>1289</th>\n",
       "      <td>1</td>\n",
       "      <td>7500</td>\n",
       "    </tr>\n",
       "    <tr>\n",
       "      <th>1426</th>\n",
       "      <td>1</td>\n",
       "      <td>7500</td>\n",
       "    </tr>\n",
       "    <tr>\n",
       "      <th>87</th>\n",
       "      <td>1</td>\n",
       "      <td>7500</td>\n",
       "    </tr>\n",
       "    <tr>\n",
       "      <th>1595</th>\n",
       "      <td>1</td>\n",
       "      <td>7500</td>\n",
       "    </tr>\n",
       "    <tr>\n",
       "      <th>...</th>\n",
       "      <td>...</td>\n",
       "      <td>...</td>\n",
       "    </tr>\n",
       "    <tr>\n",
       "      <th>1029</th>\n",
       "      <td>8</td>\n",
       "      <td>85000</td>\n",
       "    </tr>\n",
       "    <tr>\n",
       "      <th>1912</th>\n",
       "      <td>8</td>\n",
       "      <td>85000</td>\n",
       "    </tr>\n",
       "    <tr>\n",
       "      <th>1886</th>\n",
       "      <td>8</td>\n",
       "      <td>85000</td>\n",
       "    </tr>\n",
       "    <tr>\n",
       "      <th>2161</th>\n",
       "      <td>8</td>\n",
       "      <td>85000</td>\n",
       "    </tr>\n",
       "    <tr>\n",
       "      <th>1936</th>\n",
       "      <td>8</td>\n",
       "      <td>85000</td>\n",
       "    </tr>\n",
       "  </tbody>\n",
       "</table>\n",
       "<p>2185 rows × 2 columns</p>\n",
       "</div>"
      ],
      "text/plain": [
       "      New Category  New Standard Price\n",
       "2184             1                7500\n",
       "1289             1                7500\n",
       "1426             1                7500\n",
       "87               1                7500\n",
       "1595             1                7500\n",
       "...            ...                 ...\n",
       "1029             8               85000\n",
       "1912             8               85000\n",
       "1886             8               85000\n",
       "2161             8               85000\n",
       "1936             8               85000\n",
       "\n",
       "[2185 rows x 2 columns]"
      ]
     },
     "execution_count": 48,
     "metadata": {},
     "output_type": "execute_result"
    }
   ],
   "source": [
    "# 3.12\n",
    "# What's the standard price for each \"New Category\"?  (2 points)\n",
    "# Sort the eight categories in ascending order of price. \n",
    "marriott[['New Category', 'New Standard Price']].sort_values('New Standard Price')"
   ]
  },
  {
   "cell_type": "code",
   "execution_count": 50,
   "metadata": {},
   "outputs": [
    {
     "data": {
      "text/plain": [
       "Courtyard            322\n",
       "Fairfield Inn        287\n",
       "Residence Inn        251\n",
       "SpringHill Suites    120\n",
       "TownePlace Suites    103\n",
       "Name: Brand, dtype: int64"
      ]
     },
     "execution_count": 50,
     "metadata": {},
     "output_type": "execute_result"
    }
   ],
   "source": [
    "# 3.13\n",
    "# Which brands had the most hotels upgraded in category? (3 points)\n",
    "# List the top 5 brands and the corresponding number of hotels upgraded.\n",
    "upgrade = marriott[marriott['New Category'] > marriott['Current Category']]\n",
    "upgrade['Brand'].value_counts().head(5)"
   ]
  },
  {
   "cell_type": "code",
   "execution_count": 54,
   "metadata": {},
   "outputs": [
    {
     "data": {
      "text/html": [
       "<div>\n",
       "<style scoped>\n",
       "    .dataframe tbody tr th:only-of-type {\n",
       "        vertical-align: middle;\n",
       "    }\n",
       "\n",
       "    .dataframe tbody tr th {\n",
       "        vertical-align: top;\n",
       "    }\n",
       "\n",
       "    .dataframe thead th {\n",
       "        text-align: right;\n",
       "    }\n",
       "</style>\n",
       "<table border=\"1\" class=\"dataframe\">\n",
       "  <thead>\n",
       "    <tr style=\"text-align: right;\">\n",
       "      <th></th>\n",
       "      <th></th>\n",
       "      <th>Hotel</th>\n",
       "      <th>Current Category</th>\n",
       "      <th>New Category</th>\n",
       "    </tr>\n",
       "    <tr>\n",
       "      <th>Destination</th>\n",
       "      <th>Brand</th>\n",
       "      <th></th>\n",
       "      <th></th>\n",
       "      <th></th>\n",
       "    </tr>\n",
       "  </thead>\n",
       "  <tbody>\n",
       "    <tr>\n",
       "      <th rowspan=\"2\" valign=\"top\">Canada</th>\n",
       "      <th>Delta</th>\n",
       "      <td>11</td>\n",
       "      <td>3.454545</td>\n",
       "      <td>3.545455</td>\n",
       "    </tr>\n",
       "    <tr>\n",
       "      <th>Four Points</th>\n",
       "      <td>17</td>\n",
       "      <td>3.352941</td>\n",
       "      <td>2.588235</td>\n",
       "    </tr>\n",
       "    <tr>\n",
       "      <th rowspan=\"2\" valign=\"top\">China</th>\n",
       "      <th>Marriott</th>\n",
       "      <td>13</td>\n",
       "      <td>3.076923</td>\n",
       "      <td>3.153846</td>\n",
       "    </tr>\n",
       "    <tr>\n",
       "      <th>Sheraton</th>\n",
       "      <td>18</td>\n",
       "      <td>2.277778</td>\n",
       "      <td>2.500000</td>\n",
       "    </tr>\n",
       "    <tr>\n",
       "      <th>South Africa</th>\n",
       "      <th>Protea Hotels</th>\n",
       "      <td>19</td>\n",
       "      <td>1.210526</td>\n",
       "      <td>2.105263</td>\n",
       "    </tr>\n",
       "    <tr>\n",
       "      <th>Spain</th>\n",
       "      <th>AC Hotels by Marriott</th>\n",
       "      <td>20</td>\n",
       "      <td>2.150000</td>\n",
       "      <td>3.050000</td>\n",
       "    </tr>\n",
       "    <tr>\n",
       "      <th rowspan=\"15\" valign=\"top\">USA</th>\n",
       "      <th>AC Hotels by Marriott</th>\n",
       "      <td>18</td>\n",
       "      <td>3.833333</td>\n",
       "      <td>4.611111</td>\n",
       "    </tr>\n",
       "    <tr>\n",
       "      <th>Aloft</th>\n",
       "      <td>38</td>\n",
       "      <td>3.552632</td>\n",
       "      <td>3.973684</td>\n",
       "    </tr>\n",
       "    <tr>\n",
       "      <th>Autograph Collection</th>\n",
       "      <td>34</td>\n",
       "      <td>5.323529</td>\n",
       "      <td>6.029412</td>\n",
       "    </tr>\n",
       "    <tr>\n",
       "      <th>Courtyard</th>\n",
       "      <td>303</td>\n",
       "      <td>2.752475</td>\n",
       "      <td>3.580858</td>\n",
       "    </tr>\n",
       "    <tr>\n",
       "      <th>Element</th>\n",
       "      <td>18</td>\n",
       "      <td>3.777778</td>\n",
       "      <td>3.666667</td>\n",
       "    </tr>\n",
       "    <tr>\n",
       "      <th>Fairfield Inn</th>\n",
       "      <td>327</td>\n",
       "      <td>2.480122</td>\n",
       "      <td>3.198777</td>\n",
       "    </tr>\n",
       "    <tr>\n",
       "      <th>Four Points</th>\n",
       "      <td>42</td>\n",
       "      <td>3.357143</td>\n",
       "      <td>3.404762</td>\n",
       "    </tr>\n",
       "    <tr>\n",
       "      <th>Marriott</th>\n",
       "      <td>67</td>\n",
       "      <td>4.402985</td>\n",
       "      <td>4.716418</td>\n",
       "    </tr>\n",
       "    <tr>\n",
       "      <th>Renaissance</th>\n",
       "      <td>21</td>\n",
       "      <td>4.571429</td>\n",
       "      <td>4.904762</td>\n",
       "    </tr>\n",
       "    <tr>\n",
       "      <th>Residence Inn</th>\n",
       "      <td>266</td>\n",
       "      <td>2.909774</td>\n",
       "      <td>3.759398</td>\n",
       "    </tr>\n",
       "    <tr>\n",
       "      <th>Ritz-Carlton</th>\n",
       "      <td>17</td>\n",
       "      <td>6.176471</td>\n",
       "      <td>7.176471</td>\n",
       "    </tr>\n",
       "    <tr>\n",
       "      <th>Sheraton</th>\n",
       "      <td>61</td>\n",
       "      <td>3.983607</td>\n",
       "      <td>4.065574</td>\n",
       "    </tr>\n",
       "    <tr>\n",
       "      <th>SpringHill Suites</th>\n",
       "      <td>130</td>\n",
       "      <td>2.669231</td>\n",
       "      <td>3.515385</td>\n",
       "    </tr>\n",
       "    <tr>\n",
       "      <th>TownePlace Suites</th>\n",
       "      <td>128</td>\n",
       "      <td>2.421875</td>\n",
       "      <td>2.984375</td>\n",
       "    </tr>\n",
       "    <tr>\n",
       "      <th>Westin</th>\n",
       "      <td>29</td>\n",
       "      <td>4.965517</td>\n",
       "      <td>5.482759</td>\n",
       "    </tr>\n",
       "  </tbody>\n",
       "</table>\n",
       "</div>"
      ],
      "text/plain": [
       "                                    Hotel  Current Category  New Category\n",
       "Destination  Brand                                                       \n",
       "Canada       Delta                     11          3.454545      3.545455\n",
       "             Four Points               17          3.352941      2.588235\n",
       "China        Marriott                  13          3.076923      3.153846\n",
       "             Sheraton                  18          2.277778      2.500000\n",
       "South Africa Protea Hotels             19          1.210526      2.105263\n",
       "Spain        AC Hotels by Marriott     20          2.150000      3.050000\n",
       "USA          AC Hotels by Marriott     18          3.833333      4.611111\n",
       "             Aloft                     38          3.552632      3.973684\n",
       "             Autograph Collection      34          5.323529      6.029412\n",
       "             Courtyard                303          2.752475      3.580858\n",
       "             Element                   18          3.777778      3.666667\n",
       "             Fairfield Inn            327          2.480122      3.198777\n",
       "             Four Points               42          3.357143      3.404762\n",
       "             Marriott                  67          4.402985      4.716418\n",
       "             Renaissance               21          4.571429      4.904762\n",
       "             Residence Inn            266          2.909774      3.759398\n",
       "             Ritz-Carlton              17          6.176471      7.176471\n",
       "             Sheraton                  61          3.983607      4.065574\n",
       "             SpringHill Suites        130          2.669231      3.515385\n",
       "             TownePlace Suites        128          2.421875      2.984375\n",
       "             Westin                    29          4.965517      5.482759"
      ]
     },
     "execution_count": 54,
     "metadata": {},
     "output_type": "execute_result"
    }
   ],
   "source": [
    "# 3.14\n",
    "# Group all hotels by destination and brand,\n",
    "# Display the number of hotels, average current category, and average new category\n",
    "# Only keep the destinations and brands with over 10 hotels. (3 points)\n",
    "grouped = marriott.groupby(['Destination', 'Brand']).agg({'Hotel': 'count', 'Current Category': 'mean', 'New Category': 'mean'})\n",
    "grouped[grouped['Hotel'] > 10]"
   ]
  },
  {
   "cell_type": "markdown",
   "metadata": {},
   "source": [
    "**3.15.** Assume you are in Feburary 2020 and the category (price) changes will take effect on March 1, 2020. You are planning your trip to **Florence**, **Italy** and **Hong Kong**, **China** in April. You only stay in hotels in **category 8** either at present or in the future. You want to optimize your points spending (i.e., to book the hotels by spending the least amount of points). \n",
    "\n",
    "Based on the data, which hotels would you book? When should you book your hotels for Florence and Hong Kong? Why? (4 points)"
   ]
  },
  {
   "cell_type": "code",
   "execution_count": 86,
   "metadata": {},
   "outputs": [
    {
     "data": {
      "text/html": [
       "<div>\n",
       "<style scoped>\n",
       "    .dataframe tbody tr th:only-of-type {\n",
       "        vertical-align: middle;\n",
       "    }\n",
       "\n",
       "    .dataframe tbody tr th {\n",
       "        vertical-align: top;\n",
       "    }\n",
       "\n",
       "    .dataframe thead th {\n",
       "        text-align: right;\n",
       "    }\n",
       "</style>\n",
       "<table border=\"1\" class=\"dataframe\">\n",
       "  <thead>\n",
       "    <tr style=\"text-align: right;\">\n",
       "      <th></th>\n",
       "      <th>Hotel</th>\n",
       "      <th>Brand</th>\n",
       "      <th>Destination</th>\n",
       "      <th>Current Category</th>\n",
       "      <th>Current Standard Price</th>\n",
       "      <th>New Category</th>\n",
       "      <th>New Standard Price</th>\n",
       "    </tr>\n",
       "  </thead>\n",
       "  <tbody>\n",
       "    <tr>\n",
       "      <th>519</th>\n",
       "      <td>Cristallo, a Luxury Collection Resort &amp; Spa, C...</td>\n",
       "      <td>Luxury Collection</td>\n",
       "      <td>Italy</td>\n",
       "      <td>8</td>\n",
       "      <td>85000</td>\n",
       "      <td>7</td>\n",
       "      <td>60000</td>\n",
       "    </tr>\n",
       "    <tr>\n",
       "      <th>2165</th>\n",
       "      <td>W Hong Kong</td>\n",
       "      <td>W Hotels</td>\n",
       "      <td>China</td>\n",
       "      <td>8</td>\n",
       "      <td>85000</td>\n",
       "      <td>7</td>\n",
       "      <td>60000</td>\n",
       "    </tr>\n",
       "    <tr>\n",
       "      <th>145</th>\n",
       "      <td>Cervo Hotel, Costa Smeralda Resort</td>\n",
       "      <td>Sheraton</td>\n",
       "      <td>Italy</td>\n",
       "      <td>7</td>\n",
       "      <td>60000</td>\n",
       "      <td>8</td>\n",
       "      <td>85000</td>\n",
       "    </tr>\n",
       "    <tr>\n",
       "      <th>1968</th>\n",
       "      <td>The Westin Excelsior, Florence</td>\n",
       "      <td>Westin</td>\n",
       "      <td>Italy</td>\n",
       "      <td>7</td>\n",
       "      <td>60000</td>\n",
       "      <td>8</td>\n",
       "      <td>85000</td>\n",
       "    </tr>\n",
       "  </tbody>\n",
       "</table>\n",
       "</div>"
      ],
      "text/plain": [
       "                                                  Hotel              Brand  \\\n",
       "519   Cristallo, a Luxury Collection Resort & Spa, C...  Luxury Collection   \n",
       "2165                                        W Hong Kong           W Hotels   \n",
       "145                  Cervo Hotel, Costa Smeralda Resort           Sheraton   \n",
       "1968                     The Westin Excelsior, Florence             Westin   \n",
       "\n",
       "     Destination  Current Category  Current Standard Price  New Category  \\\n",
       "519        Italy                 8                   85000             7   \n",
       "2165       China                 8                   85000             7   \n",
       "145        Italy                 7                   60000             8   \n",
       "1968       Italy                 7                   60000             8   \n",
       "\n",
       "      New Standard Price  \n",
       "519                60000  \n",
       "2165               60000  \n",
       "145                85000  \n",
       "1968               85000  "
      ]
     },
     "execution_count": 86,
     "metadata": {},
     "output_type": "execute_result"
    }
   ],
   "source": [
    "# Write your code here: \n",
    "vacation = marriott[(marriott['Destination'].isin(['Italy', 'China'])) & \n",
    "                      ((marriott['Current Category'] == 8) | (marriott['New Category'] == 8))]\n",
    "                    \n",
    "                    \n",
    "vacation.sort_values(['New Standard Price'])\n",
    "\n"
   ]
  },
  {
   "cell_type": "code",
   "execution_count": null,
   "metadata": {},
   "outputs": [],
   "source": [
    "# More code if necessary: \n"
   ]
  },
  {
   "cell_type": "code",
   "execution_count": null,
   "metadata": {},
   "outputs": [],
   "source": [
    "# Answer the questions below: \n",
    "\n",
    "# For Florence, Italy, which hotel would you book? When should you book it? Why?\n",
    "# The Westin Excelsior, Florence. Book it before March 1 because the current price is 60,000 and the new price is 85,000.\n",
    "# For Hong Kong, China, which hotel would you book? When should you book it? Why?\n",
    "# W Hong Kong. Book it after March 1 because the current price is 85,000 and the new price is 60,000\n"
   ]
  },
  {
   "cell_type": "markdown",
   "metadata": {},
   "source": [
    "### Step 3. Data Visualization"
   ]
  },
  {
   "cell_type": "code",
   "execution_count": 61,
   "metadata": {},
   "outputs": [],
   "source": [
    "# 3.16\n",
    "# import necessary package(s) for visualization (1 point)\n",
    "import matplotlib.pyplot as plt\n",
    "%matplotlib inline \n",
    "plt.style.use('seaborn-v0_8-bright') \n",
    "import seaborn as sns"
   ]
  },
  {
   "cell_type": "code",
   "execution_count": 62,
   "metadata": {},
   "outputs": [
    {
     "data": {
      "text/plain": [
       "<Axes: xlabel='New Category', ylabel='count'>"
      ]
     },
     "execution_count": 62,
     "metadata": {},
     "output_type": "execute_result"
    },
    {
     "data": {
      "image/png": "[encoded data removed]",
      "text/plain": [
       "<Figure size 640x480 with 1 Axes>"
      ]
     },
     "metadata": {},
     "output_type": "display_data"
    }
   ],
   "source": [
    "# 3.17\n",
    "# Create a bar chart to compare the number of hotels in different new categories.(2 points)\n",
    "order = marriott['New Category'].value_counts(ascending=False).index\n",
    "sns.countplot(data=marriott, x='New Category', order=order)"
   ]
  },
  {
   "cell_type": "code",
   "execution_count": 87,
   "metadata": {},
   "outputs": [
    {
     "data": {
      "text/plain": [
       "<Axes: xlabel='Brand', ylabel='New Standard Price'>"
      ]
     },
     "execution_count": 87,
     "metadata": {},
     "output_type": "execute_result"
    },
    {
     "data": {
      "image/png": "[encoded data removed]",
      "text/plain": [
       "<Figure size 640x480 with 1 Axes>"
      ]
     },
     "metadata": {},
     "output_type": "display_data"
    }
   ],
   "source": [
    "# 3.18\n",
    "# Create a boxplot to compare the \"New Standard Price\" of the following three brands: \n",
    "# Sheraton, Renaissance, W Hotels (2 points)\n",
    "subset = marriott[(marriott['Brand'].isin(['Sheraton', 'Renaissance', 'W Hotels']))]\n",
    "sns.boxplot(data=subset, x= 'Brand' , y='New Standard Price')"
   ]
  },
  {
   "cell_type": "code",
   "execution_count": null,
   "metadata": {},
   "outputs": [],
   "source": []
  }
 ],
 "metadata": {
  "kernelspec": {
   "display_name": "Python 3 (ipykernel)",
   "language": "python",
   "name": "python3"
  },
  "language_info": {
   "codemirror_mode": {
    "name": "ipython",
    "version": 3
   },
   "file_extension": ".py",
   "mimetype": "text/x-python",
   "name": "python",
   "nbconvert_exporter": "python",
   "pygments_lexer": "ipython3",
   "version": "3.10.9"
  }
 },
 "nbformat": 4,
 "nbformat_minor": 4
}
