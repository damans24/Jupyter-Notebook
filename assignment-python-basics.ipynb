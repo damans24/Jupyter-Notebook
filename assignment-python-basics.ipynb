{
 "cells": [
  {
   "cell_type": "markdown",
   "metadata": {},
   "source": [
    "# Assignment: Python Basics\n",
    "We assume you are using Python 3 in this course."
   ]
  },
  {
   "cell_type": "markdown",
   "metadata": {},
   "source": [
    "## Question 1\n",
    "\n",
    "You've learned different data types in Python. Now, let's test your knowledge. \n",
    "\n",
    "You need to use to format strings. \n",
    "\n",
    "Write a program using the \"f-strings\" (https://realpython.com/python-f-strings/) and user input function to convert temperatures from Fahrenheit to Celsius. [Formula: Celsius = (Fahrenheit – 32)*5/9]\n",
    "\n",
    "Hint: you may need int() or float() function\n",
    "\n",
    "An example program output:\n",
    "```\n",
    "Please enter the temperature in Celcius: 140\n",
    "140F is 60.0 in Celsius. \n",
    "```"
   ]
  },
  {
   "cell_type": "code",
   "execution_count": null,
   "metadata": {},
   "outputs": [],
   "source": [
    "# an example of f-strings and user input function\n",
    "username = input('What\\'s your name? ')\n",
    "print(f'Welcome, {username}!')"
   ]
  },
  {
   "cell_type": "code",
   "execution_count": 5,
   "metadata": {},
   "outputs": [
    {
     "name": "stdout",
     "output_type": "stream",
     "text": [
      "Please enter the temperature in Fahrenheit: 32\n",
      "32.0 F is 0.0 in Celcius.\n"
     ]
    }
   ],
   "source": [
    "# complete your program here\n",
    "f = float(input('Please enter the temperature in Fahrenheit: '))\n",
    "c = (f - 32) * 5/9\n",
    "print(f'{f} F is {c} in Celcius.')"
   ]
  },
  {
   "cell_type": "markdown",
   "metadata": {},
   "source": [
    "Now, do the oppsoite by convert temperatures from Celsius to Fahrenheit.\n",
    "Another example:\n",
    "```\n",
    "Please enter the temperature in Celcius: 60\n",
    "60C is 140.0 in Fahrenheit. \n",
    "```"
   ]
  },
  {
   "cell_type": "code",
   "execution_count": 6,
   "metadata": {},
   "outputs": [
    {
     "name": "stdout",
     "output_type": "stream",
     "text": [
      "Please enter the temperature in Celcius: 0\n",
      "0.0 C is 32.0 in Farenheit.\n"
     ]
    }
   ],
   "source": [
    "# complete your program here\n",
    "c = float(input('Please enter the temperature in Celcius: '))\n",
    "f = (c * (9/5) + 32)\n",
    "print(f'{c} C is {f} in Farenheit.')"
   ]
  },
  {
   "cell_type": "markdown",
   "metadata": {},
   "source": [
    "Next, let's make it a bit challenging by adding conditional statements to convert temperatures to and from Celsius, Fahrenheit. [Formula: Celsius/5 = (Fahrenheit – 32)/9]\n",
    "\n",
    "An example program output:\n",
    "```\n",
    "Please enter the temperature: 60\n",
    "Is this in Celsius or Fahrenheit? C\n",
    "60C is 140 in Fahrenheit\n",
    "```\n",
    "\n",
    "Another example:\n",
    "```\n",
    "Please enter the temperature: 140\n",
    "Is this Celsius or Fahrenheit? F\n",
    "140F is 60 in Celsius\n",
    "```"
   ]
  },
  {
   "cell_type": "code",
   "execution_count": 10,
   "metadata": {},
   "outputs": [
    {
     "name": "stdout",
     "output_type": "stream",
     "text": [
      "Please enter the temperature: 0\n",
      "Is this in Celsius or Fahrenheit? c\n",
      "0.0 C is 32.0 in Farenheit.\n"
     ]
    }
   ],
   "source": [
    "# complete your program here\n",
    "d = float(input('Please enter the temperature: '))\n",
    "m = input('Is this in Celsius or Fahrenheit? ').upper()\n",
    "if m == 'C':\n",
    "    f = (d * (9/5) + 32)\n",
    "    print(f'{d} C is {f} in Farenheit.')\n",
    "elif m == 'F':\n",
    "    c = (d - 32) * 5/9\n",
    "    print(f'{d} F is {c} in Celcius.')"
   ]
  },
  {
   "cell_type": "markdown",
   "metadata": {},
   "source": [
    "## Question 2\n",
    "\n",
    "Have some fun with strings."
   ]
  },
  {
   "cell_type": "code",
   "execution_count": 2,
   "metadata": {},
   "outputs": [],
   "source": [
    "sentence = \"Talk is cheap. Show me the code - Linus Torvalds\""
   ]
  },
  {
   "cell_type": "code",
   "execution_count": 12,
   "metadata": {},
   "outputs": [
    {
     "name": "stdout",
     "output_type": "stream",
     "text": [
      "48\n"
     ]
    }
   ],
   "source": [
    "# Find the length of this sentence.\n",
    "print(len(sentence))"
   ]
  },
  {
   "cell_type": "code",
   "execution_count": 13,
   "metadata": {},
   "outputs": [
    {
     "name": "stdout",
     "output_type": "stream",
     "text": [
      "talk is cheap. show me the code - linus torvalds\n"
     ]
    }
   ],
   "source": [
    "# Convert the whole string to lower case. \n",
    "print(sentence.lower())"
   ]
  },
  {
   "cell_type": "code",
   "execution_count": 3,
   "metadata": {},
   "outputs": [
    {
     "name": "stdout",
     "output_type": "stream",
     "text": [
      "cheap. Show me the code - Linus\n"
     ]
    }
   ],
   "source": [
    "# Extract a substring from the 10th character from left to the 10th character from right.\n",
    "print(sentence[8:-9])"
   ]
  },
  {
   "cell_type": "code",
   "execution_count": 15,
   "metadata": {},
   "outputs": [
    {
     "name": "stdout",
     "output_type": "stream",
     "text": [
      "['Talk', 'is', 'cheap.', 'Show', 'me', 'the', 'code', '-', 'Linus', 'Torvalds']\n"
     ]
    }
   ],
   "source": [
    "# Split the sentence into a list of substrings by space ' '. \n",
    "print(sentence.split(' '))"
   ]
  },
  {
   "cell_type": "code",
   "execution_count": 17,
   "metadata": {},
   "outputs": [
    {
     "name": "stdout",
     "output_type": "stream",
     "text": [
      "['talk', 'is', 'cheap', 'show', 'me', 'the', 'code', 'linus', 'torvalds']\n"
     ]
    }
   ],
   "source": [
    "# Given the sentence, output a list of words in lowercase (without punctuations). \n",
    "print(sentence.lower().replace('.',' ').replace('-',' ').split())"
   ]
  },
  {
   "cell_type": "code",
   "execution_count": 18,
   "metadata": {},
   "outputs": [
    {
     "name": "stdout",
     "output_type": "stream",
     "text": [
      "13\n"
     ]
    }
   ],
   "source": [
    "# Count the total number of vowels in the sentence.\n",
    "vowels = ['a', 'e', 'i', 'o', 'u']\n",
    "vowel_count = 0\n",
    "for char in sentence:\n",
    "    if char.lower() in vowels:\n",
    "        vowel_count += 1\n",
    "print(vowel_count)"
   ]
  },
  {
   "cell_type": "code",
   "execution_count": 10,
   "metadata": {},
   "outputs": [
    {
     "data": {
      "text/plain": [
       "[1, 5, 10, 11, 17, 21, 25, 28, 30, 35, 37, 41, 44]"
      ]
     },
     "execution_count": 10,
     "metadata": {},
     "output_type": "execute_result"
    }
   ],
   "source": [
    "vowel_positions = [i for i in range(len(sentence)) if sentence[i].lower() in 'aeiou']\n",
    "vowel_positions"
   ]
  },
  {
   "cell_type": "markdown",
   "metadata": {},
   "source": [
    "## Question 3\n",
    "\n",
    "Review list comprehension if needed: https://realpython.com/list-comprehension-python/\n",
    "\n",
    "The formula for list comprehension is: `new_list = [expression for member in iterable (if conditional)]`\n",
    "\n",
    "You need to do the following:"
   ]
  },
  {
   "cell_type": "code",
   "execution_count": 1,
   "metadata": {},
   "outputs": [
    {
     "data": {
      "text/plain": [
       "[0, 1, 8, 27, 64]"
      ]
     },
     "execution_count": 1,
     "metadata": {},
     "output_type": "execute_result"
    }
   ],
   "source": [
    "# Use a loop to create a list of 5 cube numbers and print the list：[0, 1, 8, 27, 64]\n",
    "cubes = []\n",
    "for i in range(5):\n",
    "    cubes.append(i ** 3)\n",
    "cubes"
   ]
  },
  {
   "cell_type": "code",
   "execution_count": 2,
   "metadata": {},
   "outputs": [
    {
     "data": {
      "text/plain": [
       "[0, 1, 8, 27, 64]"
      ]
     },
     "execution_count": 2,
     "metadata": {},
     "output_type": "execute_result"
    }
   ],
   "source": [
    "# Use list comprehension to create the same list\n",
    "cubes = [i ** 3 for i in range(5)]\n",
    "cubes"
   ]
  },
  {
   "cell_type": "code",
   "execution_count": 7,
   "metadata": {},
   "outputs": [
    {
     "data": {
      "text/plain": [
       "[1,\n",
       " 3,\n",
       " 6,\n",
       " 9,\n",
       " 11,\n",
       " 14,\n",
       " 15,\n",
       " 17,\n",
       " 22,\n",
       " 25,\n",
       " 28,\n",
       " 31,\n",
       " 35,\n",
       " 38,\n",
       " 41,\n",
       " 45,\n",
       " 47,\n",
       " 54,\n",
       " 57,\n",
       " 59,\n",
       " 63,\n",
       " 66]"
      ]
     },
     "execution_count": 7,
     "metadata": {},
     "output_type": "execute_result"
    }
   ],
   "source": [
    "# Find the postions (indexes) of all vowels in a sentence using list comprehension\n",
    "sentence = \"Toto, I\\'ve a feeling we\\'re not in Kansas anymore. - THE WIZARD OF OZ (1939)\"\n",
    "vowel_positions = [i for i in range(len(sentence)) if sentence[i].lower() in 'aeiou']\n",
    "vowel_positions"
   ]
  },
  {
   "cell_type": "code",
   "execution_count": 12,
   "metadata": {},
   "outputs": [
    {
     "name": "stdout",
     "output_type": "stream",
     "text": [
      "How many numbers do you want? 6\n"
     ]
    },
    {
     "data": {
      "text/plain": [
       "[0, 1, 1, 2, 3, 5]"
      ]
     },
     "execution_count": 12,
     "metadata": {},
     "output_type": "execute_result"
    }
   ],
   "source": [
    "# Use a loop to create a list of first n numbers in the Fibonacci sequence\n",
    "# [0, 1, 1, 2, 3, 5, 8, ...] \n",
    "fibonacci = []\n",
    "n = int(input('How many numbers do you want? '))\n",
    "# add your code here\n",
    "a, b = 0, 1\n",
    "for i in range(n):\n",
    "    fibonacci.append(a)\n",
    "    a, b = b, a+b\n",
    "fibonacci"
   ]
  },
  {
   "cell_type": "markdown",
   "metadata": {},
   "source": [
    "## Question 4\n",
    "\n",
    "This question is about Python dictionary.\n",
    "\n",
    "|Vaccine|Efficacy|\n",
    "|-----|-------|\n",
    "|Pfizer|95%|\n",
    "|Moderna|95%|\n",
    "|AstraZeneca|72%|\n",
    "|Johnson & Johnson|66%|\n",
    "\n",
    "Source: https://www.biospace.com/article/comparing-covid-19-vaccines-pfizer-biontech-moderna-astrazeneca-oxford-j-and-j-russia-s-sputnik-v/"
   ]
  },
  {
   "cell_type": "code",
   "execution_count": 2,
   "metadata": {},
   "outputs": [],
   "source": [
    "# Create a dictionary to save the data of vaccines and their efficacy. (save 95% as 0.95)\n",
    "v_dict = {'Pfizer':0.95, 'Moderna':0.95, 'AstraZeneca':0.72, 'Johnson & Johnson':0.66}"
   ]
  },
  {
   "cell_type": "code",
   "execution_count": 3,
   "metadata": {},
   "outputs": [
    {
     "name": "stdout",
     "output_type": "stream",
     "text": [
      "Which vaccine? pfizer\n",
      "The efficacy of Pfizer is 0.95\n"
     ]
    }
   ],
   "source": [
    "v = input('Which vaccine? ').capitalize()\n",
    "# print the efficacy of the vaccine\n",
    "\n",
    "print('The efficacy of', v, 'is', v_dict.get(v))"
   ]
  },
  {
   "cell_type": "code",
   "execution_count": 14,
   "metadata": {},
   "outputs": [
    {
     "name": "stdout",
     "output_type": "stream",
     "text": [
      "{'Pfizer': 0.95, 'Moderna': 0.95, 'AstraZeneca': 0.72, 'Johnson & Johnson': 0.66, 'Sputnik V': 0.914}\n"
     ]
    }
   ],
   "source": [
    "# add another vaccine 'Sputnik V' with 91.4% efficacy rate to the dictionary\n",
    "v_dict['Sputnik V'] = 0.914\n",
    "print(v_dict)"
   ]
  },
  {
   "cell_type": "code",
   "execution_count": 15,
   "metadata": {},
   "outputs": [
    {
     "name": "stdout",
     "output_type": "stream",
     "text": [
      "{'Pfizer': 0.95, 'Moderna': 0.95, 'AstraZeneca': 0.72, 'Johnson & Johnson': 0.66, 'Sputnik V': 0.914, 'Sinovac': 0.5038}\n"
     ]
    }
   ],
   "source": [
    "# add another vaccine 'Sinovac' with 50.38% efficacy rate to the dictionary\n",
    "v_dict['Sinovac'] = 0.5038\n",
    "print(v_dict)"
   ]
  },
  {
   "cell_type": "code",
   "execution_count": 16,
   "metadata": {},
   "outputs": [
    {
     "name": "stdout",
     "output_type": "stream",
     "text": [
      "AstraZeneca\n",
      "Johnson & Johnson\n",
      "Sinovac\n"
     ]
    }
   ],
   "source": [
    "# Print vaccines with efficacy lower than 90%.\n",
    "for vaccine, efficacy in v_dict.items():\n",
    "    if efficacy < 0.90:\n",
    "        print(vaccine)"
   ]
  },
  {
   "cell_type": "code",
   "execution_count": 17,
   "metadata": {},
   "outputs": [],
   "source": [
    "# delete the Sinovac vaccine from the dictionary. \n",
    "del v_dict['Sinovac']"
   ]
  },
  {
   "cell_type": "code",
   "execution_count": 19,
   "metadata": {},
   "outputs": [
    {
     "name": "stdout",
     "output_type": "stream",
     "text": [
      "{'t': 2, 'h': 2, 'e': 3, 'q': 1, 'u': 2, 'i': 1, 'c': 1, 'k': 1, 'b': 1, 'r': 2, 'o': 4, 'w': 1, 'n': 1, 'f': 1, 'x': 1, 'j': 1, 'm': 1, 'p': 1, 's': 1, 'v': 1, 'l': 1, 'a': 1, 'z': 1, 'y': 1, 'd': 1, 'g': 1}\n"
     ]
    }
   ],
   "source": [
    "#Count the occurrence of each alphabet (no space ' ') in this sentence. \n",
    "sentence = 'the quick brown fox jumps over the lazy dog'\n",
    "\n",
    "# Save the result in a dictionary \n",
    "ch_dict = {} \n",
    "# Use a loop to iterate all characters\n",
    "# add your code here\n",
    "for ch in sentence:\n",
    "    if ch != ' ':\n",
    "        ch_dict[ch] = sentence.count(ch)\n",
    "# print the dictionary\n",
    "print(ch_dict)"
   ]
  },
  {
   "cell_type": "markdown",
   "metadata": {},
   "source": [
    "## Quesion 5\n",
    "\n",
    "Next, we will practice with Numpy arrays.  "
   ]
  },
  {
   "cell_type": "code",
   "execution_count": 20,
   "metadata": {},
   "outputs": [],
   "source": [
    "import numpy as np"
   ]
  },
  {
   "cell_type": "code",
   "execution_count": 21,
   "metadata": {},
   "outputs": [
    {
     "data": {
      "text/plain": [
       "array([ 2,  4,  6,  8, 10, 12, 14, 16, 18, 20])"
      ]
     },
     "execution_count": 21,
     "metadata": {},
     "output_type": "execute_result"
    }
   ],
   "source": [
    "# create a 1-D array of first 20 positive even numbers (starting with 2)\n",
    "np.arange(2, 22, 2)"
   ]
  },
  {
   "cell_type": "code",
   "execution_count": 22,
   "metadata": {},
   "outputs": [
    {
     "data": {
      "text/plain": [
       "array([ 1,  3,  5,  7,  9, 11, 13, 15, 17, 19, 21])"
      ]
     },
     "execution_count": 22,
     "metadata": {},
     "output_type": "execute_result"
    }
   ],
   "source": [
    "# create a 1-D array of first 20 positive odd numbers (starting with 1)\n",
    "np.arange(1, 22, 2)"
   ]
  },
  {
   "cell_type": "code",
   "execution_count": 23,
   "metadata": {},
   "outputs": [
    {
     "data": {
      "text/plain": [
       "array([[ 0,  1,  2,  3,  4,  5,  6,  7,  8,  9],\n",
       "       [10, 11, 12, 13, 14, 15, 16, 17, 18, 19],\n",
       "       [20, 21, 22, 23, 24, 25, 26, 27, 28, 29],\n",
       "       [30, 31, 32, 33, 34, 35, 36, 37, 38, 39],\n",
       "       [40, 41, 42, 43, 44, 45, 46, 47, 48, 49],\n",
       "       [50, 51, 52, 53, 54, 55, 56, 57, 58, 59],\n",
       "       [60, 61, 62, 63, 64, 65, 66, 67, 68, 69],\n",
       "       [70, 71, 72, 73, 74, 75, 76, 77, 78, 79],\n",
       "       [80, 81, 82, 83, 84, 85, 86, 87, 88, 89],\n",
       "       [90, 91, 92, 93, 94, 95, 96, 97, 98, 99]])"
      ]
     },
     "execution_count": 23,
     "metadata": {},
     "output_type": "execute_result"
    }
   ],
   "source": [
    "# create a 10x10 array in the following format: \n",
    "# first row: [0,1,...,9]\n",
    "# second row: [10,11,...,19]\n",
    "# ...\n",
    "# tenth row: [90,91,...,99]\n",
    "np.arange(100).reshape(10,10)"
   ]
  },
  {
   "cell_type": "code",
   "execution_count": 26,
   "metadata": {},
   "outputs": [
    {
     "data": {
      "text/plain": [
       "array([[ 0.30609516, -1.79210971, -0.36892065, -0.27642187, -0.88178856,\n",
       "        -0.71092   , -0.25253563,  0.54670306, -0.44712904,  0.7573041 ],\n",
       "       [-0.66103566, -0.95413078,  0.92731252, -1.17121768, -0.09383619,\n",
       "         1.41292697, -0.07644053, -0.12424843,  0.69428421,  1.09156184],\n",
       "       [ 0.01756878,  0.54675739, -0.84433967, -0.33785152,  1.07330248,\n",
       "        -0.28943811,  0.78934109, -1.49919022, -0.02137203,  1.94743768],\n",
       "       [ 0.2965499 ,  0.28392339, -1.11953395,  0.20721678, -0.71808566,\n",
       "         0.49123937,  1.08801088, -1.00938695, -1.61370964,  0.04064096],\n",
       "       [-0.98256538, -0.34753835, -1.1701105 , -0.21507571, -1.68324025,\n",
       "         1.25909533,  0.47568322,  0.81383243,  0.93086116,  0.38028489],\n",
       "       [ 0.34673794,  1.09055558,  2.12004257,  0.71865953,  1.3288274 ,\n",
       "         2.1341784 ,  0.51242957, -0.14416813, -1.36322925, -0.04406541],\n",
       "       [-0.5093381 , -0.20468531, -0.37867675, -0.36184566, -0.39089923,\n",
       "         1.32416973, -0.59532256, -0.91412201, -1.41066944,  0.28078474],\n",
       "       [ 0.1397025 ,  0.36968714, -1.70567087,  0.33234849, -0.26776866,\n",
       "        -1.40075664,  1.18729718,  0.00873003,  2.09947225,  0.11027356],\n",
       "       [ 0.08804232,  0.32751371,  1.14345445, -1.3102187 , -2.12572904,\n",
       "        -1.05196898,  0.04227332,  0.0160533 ,  0.6439044 , -0.57369359],\n",
       "       [-1.24938359,  1.80554316, -0.85285773, -0.44161161,  0.15170973,\n",
       "        -0.3764181 ,  0.49368063,  0.19358385, -1.83976426,  1.94843177]])"
      ]
     },
     "execution_count": 26,
     "metadata": {},
     "output_type": "execute_result"
    }
   ],
   "source": [
    "# Create a 10x10 array of normally distributed random values\n",
    "# with mean 0 and standard deviation 1\n",
    "M = np.random.normal(0, 1, (10,10))\n",
    "M"
   ]
  },
  {
   "cell_type": "code",
   "execution_count": 31,
   "metadata": {},
   "outputs": [
    {
     "name": "stdout",
     "output_type": "stream",
     "text": [
      "33\n"
     ]
    }
   ],
   "source": [
    "# Count the numbers in M with an absolute value greater than 1.\n",
    "count = np.sum(np.abs(M) > 1)\n",
    "\n",
    "print(count)"
   ]
  },
  {
   "cell_type": "code",
   "execution_count": 35,
   "metadata": {},
   "outputs": [
    {
     "name": "stdout",
     "output_type": "stream",
     "text": [
      "Row count: 4\n",
      "column count: 4\n"
     ]
    },
    {
     "data": {
      "text/plain": [
       "array([[14, 15, 10, 17],\n",
       "       [14, 17, 10, 10],\n",
       "       [12, 13, 14, 19],\n",
       "       [14, 14, 19, 19]])"
      ]
     },
     "execution_count": 35,
     "metadata": {},
     "output_type": "execute_result"
    }
   ],
   "source": [
    "# Reference: https://numpy.org/doc/stable/reference/random/generated/numpy.random.randint.html\n",
    "\n",
    "# Input the number of rows (input an integer >= 3)\n",
    "r = input('Row count: ')\n",
    "\n",
    "# Input the number of rows (input another integer >= 3)\n",
    "c = input('column count: ')\n",
    "\n",
    "# Hint: you may want to use the function int().\n",
    "r = int(r)\n",
    "c = int(c)\n",
    "# Create a r x c array of random integers between 10 (inclusive) and 20 (exclusive).\n",
    "arr = np.random.randint(10, 20, (r,c))\n",
    "arr"
   ]
  },
  {
   "cell_type": "code",
   "execution_count": 36,
   "metadata": {},
   "outputs": [
    {
     "name": "stdout",
     "output_type": "stream",
     "text": [
      "10\n"
     ]
    }
   ],
   "source": [
    "# output the element in the first row and the third column\n",
    "print(arr[0,2])"
   ]
  },
  {
   "cell_type": "code",
   "execution_count": 37,
   "metadata": {},
   "outputs": [
    {
     "name": "stdout",
     "output_type": "stream",
     "text": [
      "10\n"
     ]
    }
   ],
   "source": [
    "# output the element in the second row and the last column\n",
    "print(arr[1,3])"
   ]
  },
  {
   "cell_type": "code",
   "execution_count": 38,
   "metadata": {},
   "outputs": [
    {
     "name": "stdout",
     "output_type": "stream",
     "text": [
      "[14 17 10 10]\n"
     ]
    }
   ],
   "source": [
    "# output the second row of the array\n",
    "print(arr[1,:])"
   ]
  },
  {
   "cell_type": "code",
   "execution_count": 39,
   "metadata": {},
   "outputs": [
    {
     "name": "stdout",
     "output_type": "stream",
     "text": [
      "[12 13 14 19]\n"
     ]
    }
   ],
   "source": [
    "# output the second last row of the array\n",
    "print(arr[2,:])"
   ]
  },
  {
   "cell_type": "code",
   "execution_count": 40,
   "metadata": {},
   "outputs": [
    {
     "name": "stdout",
     "output_type": "stream",
     "text": [
      "[15 17 13 14]\n"
     ]
    }
   ],
   "source": [
    "# output the second column of the array\n",
    "print(arr[:,1])"
   ]
  },
  {
   "cell_type": "code",
   "execution_count": 41,
   "metadata": {},
   "outputs": [
    {
     "name": "stdout",
     "output_type": "stream",
     "text": [
      "[10 10 14 19]\n"
     ]
    }
   ],
   "source": [
    "# output the second last column of the array\n",
    "print(arr[:,2])"
   ]
  },
  {
   "cell_type": "code",
   "execution_count": 43,
   "metadata": {},
   "outputs": [
    {
     "name": "stdout",
     "output_type": "stream",
     "text": [
      "[[14 15 10]\n",
      " [14 17 10]\n",
      " [12 13 14]]\n"
     ]
    }
   ],
   "source": [
    "# output the upper-left 3x3 sub-array\n",
    "print(arr[0:3, 0:3])"
   ]
  },
  {
   "cell_type": "code",
   "execution_count": 49,
   "metadata": {},
   "outputs": [
    {
     "name": "stdout",
     "output_type": "stream",
     "text": [
      "[[14 17 10]\n",
      " [12 13 14]\n",
      " [14 14 19]]\n"
     ]
    }
   ],
   "source": [
    "# output the bottom-left 3x3 sub-array\n",
    "print(arr[1:4, 0:3])"
   ]
  },
  {
   "cell_type": "code",
   "execution_count": 47,
   "metadata": {},
   "outputs": [
    {
     "name": "stdout",
     "output_type": "stream",
     "text": [
      "[[15 10 17]\n",
      " [17 10 10]\n",
      " [13 14 19]]\n"
     ]
    }
   ],
   "source": [
    "# output the upper-right 3x3 sub-array\n",
    "print(arr[0:3, 1:4])"
   ]
  },
  {
   "cell_type": "code",
   "execution_count": 48,
   "metadata": {},
   "outputs": [
    {
     "name": "stdout",
     "output_type": "stream",
     "text": [
      "[[17 10 10]\n",
      " [13 14 19]\n",
      " [14 19 19]]\n"
     ]
    }
   ],
   "source": [
    "# output the bottom-right 3x3 sub-array\n",
    "print(arr[1:4, 1:4])"
   ]
  },
  {
   "cell_type": "code",
   "execution_count": 54,
   "metadata": {},
   "outputs": [
    {
     "data": {
      "text/plain": [
       "array([[ 1,  2,  3,  4,  5,  6,  7,  8,  9, 10],\n",
       "       [11, 12, 13, 14, 15, 16, 17, 18, 19, 20],\n",
       "       [21, 22, 23, 24, 25, 26, 27, 28, 29, 30],\n",
       "       [31, 32, 33, 34, 35, 36, 37, 38, 39, 40],\n",
       "       [41, 42, 43, 44, 45, 46, 47, 48, 49, 50]])"
      ]
     },
     "execution_count": 54,
     "metadata": {},
     "output_type": "execute_result"
    }
   ],
   "source": [
    "# Create a 1-D array from 1 to 50 (inclusive)\n",
    "A = np.arange(1, 51)\n",
    "A\n",
    "# Reshape A to a 5x10 array in the following format: \n",
    "# first row: [1,...,10]\n",
    "# second row: [11,...,20]\n",
    "# ...\n",
    "# fifth row: [41,...,50]\n",
    "A_new = A.reshape(5, 10)\n",
    "A_new"
   ]
  },
  {
   "cell_type": "code",
   "execution_count": 57,
   "metadata": {},
   "outputs": [
    {
     "data": {
      "text/plain": [
       "array([[ 1,  2,  3,  4,  5,  6,  7,  8,  9, 10],\n",
       "       [11, 12, 13, 14, 15, 16, 17, 18, 19, 20],\n",
       "       [21, 22, 23, 24, 25, 26, 27, 28, 29, 30],\n",
       "       [31, 32, 33, 34, 35, 36, 37, 38, 39, 40],\n",
       "       [41, 42, 43, 44, 45, 46, 47, 48, 49, 50],\n",
       "       [51, 52, 53, 54, 55, 56, 57, 58, 59, 60]])"
      ]
     },
     "execution_count": 57,
     "metadata": {},
     "output_type": "execute_result"
    }
   ],
   "source": [
    "# add a row [51,...,60] to A\n",
    "new_row = np.arange(51,61)\n",
    "A_new = np.vstack([A_new, new_row])\n",
    "A_new"
   ]
  },
  {
   "cell_type": "code",
   "execution_count": 58,
   "metadata": {},
   "outputs": [
    {
     "name": "stdout",
     "output_type": "stream",
     "text": [
      "[[ 1  2  3  4  5  6  7  8  9 10]\n",
      " [11 12 13 14 15 16 17 18 19 20]\n",
      " [21 22 23 24 25 26 27 28 29 30]]\n",
      "[[31 32 33 34 35 36 37 38 39 40]\n",
      " [41 42 43 44 45 46 47 48 49 50]\n",
      " [51 52 53 54 55 56 57 58 59 60]]\n"
     ]
    }
   ],
   "source": [
    "# split the new A (6x10) to two 3x10 arrays A1 and A2\n",
    "A1, A2 = np.split(A_new, 2)\n",
    "print(A1)\n",
    "print(A2)"
   ]
  },
  {
   "cell_type": "code",
   "execution_count": 59,
   "metadata": {},
   "outputs": [
    {
     "name": "stdout",
     "output_type": "stream",
     "text": [
      "A_new + 10 = [[11 12 13 14 15 16 17 18 19 20]\n",
      " [21 22 23 24 25 26 27 28 29 30]\n",
      " [31 32 33 34 35 36 37 38 39 40]\n",
      " [41 42 43 44 45 46 47 48 49 50]\n",
      " [51 52 53 54 55 56 57 58 59 60]\n",
      " [61 62 63 64 65 66 67 68 69 70]]\n"
     ]
    }
   ],
   "source": [
    "# Add 10 to each element of A\n",
    "print('A_new + 10 =', A_new + 10)"
   ]
  },
  {
   "cell_type": "code",
   "execution_count": 60,
   "metadata": {},
   "outputs": [
    {
     "name": "stdout",
     "output_type": "stream",
     "text": [
      "A_new ** 2 = [[   1    4    9   16   25   36   49   64   81  100]\n",
      " [ 121  144  169  196  225  256  289  324  361  400]\n",
      " [ 441  484  529  576  625  676  729  784  841  900]\n",
      " [ 961 1024 1089 1156 1225 1296 1369 1444 1521 1600]\n",
      " [1681 1764 1849 1936 2025 2116 2209 2304 2401 2500]\n",
      " [2601 2704 2809 2916 3025 3136 3249 3364 3481 3600]]\n"
     ]
    }
   ],
   "source": [
    "# Calculate the square root of each element in A\n",
    "print('A_new ** 2 =', A_new ** 2)"
   ]
  },
  {
   "cell_type": "code",
   "execution_count": 61,
   "metadata": {},
   "outputs": [
    {
     "data": {
      "text/plain": [
       "array([[ 0.30609516, -1.79210971, -0.36892065, -0.27642187, -0.88178856,\n",
       "        -0.71092   , -0.25253563,  0.54670306, -0.44712904,  0.7573041 ],\n",
       "       [-0.66103566, -0.95413078,  0.92731252, -1.17121768, -0.09383619,\n",
       "         1.41292697, -0.07644053, -0.12424843,  0.69428421,  1.09156184],\n",
       "       [ 0.01756878,  0.54675739, -0.84433967, -0.33785152,  1.07330248,\n",
       "        -0.28943811,  0.78934109, -1.49919022, -0.02137203,  1.94743768],\n",
       "       [ 0.2965499 ,  0.28392339, -1.11953395,  0.20721678, -0.71808566,\n",
       "         0.49123937,  1.08801088, -1.00938695, -1.61370964,  0.04064096],\n",
       "       [-0.98256538, -0.34753835, -1.1701105 , -0.21507571, -1.68324025,\n",
       "         1.25909533,  0.47568322,  0.81383243,  0.93086116,  0.38028489],\n",
       "       [ 0.34673794,  1.09055558,  2.12004257,  0.71865953,  1.3288274 ,\n",
       "         2.1341784 ,  0.51242957, -0.14416813, -1.36322925, -0.04406541],\n",
       "       [-0.5093381 , -0.20468531, -0.37867675, -0.36184566, -0.39089923,\n",
       "         1.32416973, -0.59532256, -0.91412201, -1.41066944,  0.28078474],\n",
       "       [ 0.1397025 ,  0.36968714, -1.70567087,  0.33234849, -0.26776866,\n",
       "        -1.40075664,  1.18729718,  0.00873003,  2.09947225,  0.11027356],\n",
       "       [ 0.08804232,  0.32751371,  1.14345445, -1.3102187 , -2.12572904,\n",
       "        -1.05196898,  0.04227332,  0.0160533 ,  0.6439044 , -0.57369359],\n",
       "       [-1.24938359,  1.80554316, -0.85285773, -0.44161161,  0.15170973,\n",
       "        -0.3764181 ,  0.49368063,  0.19358385, -1.83976426,  1.94843177]])"
      ]
     },
     "execution_count": 61,
     "metadata": {},
     "output_type": "execute_result"
    }
   ],
   "source": [
    "M"
   ]
  },
  {
   "cell_type": "code",
   "execution_count": 62,
   "metadata": {},
   "outputs": [
    {
     "data": {
      "text/plain": [
       "(10, 10)"
      ]
     },
     "execution_count": 62,
     "metadata": {},
     "output_type": "execute_result"
    }
   ],
   "source": [
    "# Above, we have created a 10x10 array M of normally distributed random values\n",
    "# with mean 0 and standard deviation 1\n",
    "M.shape"
   ]
  },
  {
   "cell_type": "code",
   "execution_count": 63,
   "metadata": {},
   "outputs": [
    {
     "name": "stdout",
     "output_type": "stream",
     "text": [
      "Mean:  -0.018390154840036654\n",
      "Standard Deviation:  0.9617875366700624\n"
     ]
    }
   ],
   "source": [
    "# Print the mean, standard devietion of all numbers in M\n",
    "print('Mean: ', M.mean())\n",
    "print('Standard Deviation: ', M.std())"
   ]
  },
  {
   "cell_type": "code",
   "execution_count": 66,
   "metadata": {},
   "outputs": [
    {
     "name": "stdout",
     "output_type": "stream",
     "text": [
      "Maximum:  2.134178400651744\n",
      "3rd quartile:  0.5467166425183803\n",
      "Median:  -0.0063210002940880085\n",
      "1st quartile:  -0.6735067445959179\n",
      "Minimum:  -2.1257290429449927\n"
     ]
    }
   ],
   "source": [
    "# Print the maximumn, 3rd quartile, median, 1st quartile, and minimum in M\n",
    "print('Maximum: ', M.max())\n",
    "print('3rd quartile: ', np.percentile(M, 75))\n",
    "print('Median: ', np.median(M))\n",
    "print('1st quartile: ', np.percentile(M, 25))\n",
    "print('Minimum: ', M.min())"
   ]
  }
 ],
 "metadata": {
  "kernelspec": {
   "display_name": "Python 3 (ipykernel)",
   "language": "python",
   "name": "python3"
  },
  "language_info": {
   "codemirror_mode": {
    "name": "ipython",
    "version": 3
   },
   "file_extension": ".py",
   "mimetype": "text/x-python",
   "name": "python",
   "nbconvert_exporter": "python",
   "pygments_lexer": "ipython3",
   "version": "3.10.9"
  }
 },
 "nbformat": 4,
 "nbformat_minor": 4
}
